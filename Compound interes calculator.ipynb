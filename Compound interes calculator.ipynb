{
 "cells": [
  {
   "cell_type": "code",
   "execution_count": 2,
   "id": "b12a42d7",
   "metadata": {},
   "outputs": [],
   "source": [
    "def get_principal():\n",
    "    principal = float(input(\"Enter the principal amount: \"))\n",
    "    return principal"
   ]
  },
  {
   "cell_type": "code",
   "execution_count": 3,
   "id": "dc3f23a1",
   "metadata": {},
   "outputs": [],
   "source": [
    "def get_rate():\n",
    "    rate = float(input(\"Enter the interest rate: \"))\n",
    "    return rate"
   ]
  },
  {
   "cell_type": "code",
   "execution_count": 4,
   "id": "843568e2",
   "metadata": {},
   "outputs": [],
   "source": [
    "def get_years():\n",
    "    years = int(input(\"Enter the number of years: \"))\n",
    "    return years"
   ]
  },
  {
   "cell_type": "code",
   "execution_count": 5,
   "id": "46e0651f",
   "metadata": {},
   "outputs": [],
   "source": [
    "def calculate_interest(principal, rate, years):\n",
    "    amount = principal * (1 + (rate / 100)) ** years\n",
    "    return amount"
   ]
  },
  {
   "cell_type": "code",
   "execution_count": 6,
   "id": "67e02130",
   "metadata": {},
   "outputs": [],
   "source": [
    "def display_result(amount):\n",
    "    result = round(amount, 2)\n",
    "    print(\"The final amount is:\", result)"
   ]
  },
  {
   "cell_type": "code",
   "execution_count": 7,
   "id": "de2cadf6",
   "metadata": {},
   "outputs": [
    {
     "name": "stdout",
     "output_type": "stream",
     "text": [
      "Enter the principal amount: 150\n",
      "Enter the interest rate: 15\n",
      "Enter the number of years: 5\n",
      "The final amount is: 301.7\n"
     ]
    }
   ],
   "source": [
    "# Call the functions in order to run the program\n",
    "principal = get_principal()\n",
    "rate = get_rate()\n",
    "years = get_years()\n",
    "amount = calculate_interest(principal, rate, years)\n",
    "display_result(amount)"
   ]
  }
 ],
 "metadata": {
  "kernelspec": {
   "display_name": "Python 3 (ipykernel)",
   "language": "python",
   "name": "python3"
  },
  "language_info": {
   "codemirror_mode": {
    "name": "ipython",
    "version": 3
   },
   "file_extension": ".py",
   "mimetype": "text/x-python",
   "name": "python",
   "nbconvert_exporter": "python",
   "pygments_lexer": "ipython3",
   "version": "3.11.1"
  }
 },
 "nbformat": 4,
 "nbformat_minor": 5
}
